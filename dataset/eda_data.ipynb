{
 "cells": [
  {
   "cell_type": "code",
   "execution_count": null,
   "metadata": {},
   "outputs": [],
   "source": [
    "import pandas as pd\n",
    "import matplotlib.pyplot as plt\n",
    "import seaborn as sns\n",
    "\n",
    "# Load the preprocessed data into a DataFrame\n",
    "df = pd.read_csv('data_processed.csv')\n",
    "\n",
    "# Display basic information about the DataFrame\n",
    "print(df.info())\n",
    "\n",
    "# Summary statistics\n",
    "print(df.describe())\n",
    "\n",
    "# Distribution of sales numbers\n",
    "plt.figure(figsize=(8, 6))\n",
    "sns.histplot(data=df, x='sales_number', bins=20)\n",
    "plt.title('Distribution of Sales Numbers')\n",
    "plt.xlabel('Sales Numbers')\n",
    "plt.ylabel('Frequency')\n",
    "plt.show()\n",
    "\n",
    "# Relationship between fixed item price and sales number\n",
    "plt.figure(figsize=(8, 6))\n",
    "sns.scatterplot(data=df, x='fixed_item_price', y='sales_number')\n",
    "plt.title('Relationship between Fixed Item Price and Sales Number')\n",
    "plt.xlabel('Fixed Item Price')\n",
    "plt.ylabel('Sales Numbers')\n",
    "plt.show()\n",
    "\n",
    "# Distribution of item prices by shop\n",
    "plt.figure(figsize=(10, 6))\n",
    "sns.boxplot(data=df, x='shop_name', y='fixed_item_price')\n",
    "plt.title('Distribution of Item Prices by Shop')\n",
    "plt.xlabel('Shop Name')\n",
    "plt.ylabel('Fixed Item Price')\n",
    "plt.xticks(rotation=45)\n",
    "plt.show()"
   ]
  }
 ],
 "metadata": {
  "kernelspec": {
   "display_name": "crawl_data",
   "language": "python",
   "name": "python3"
  },
  "language_info": {
   "codemirror_mode": {
    "name": "ipython",
    "version": 3
   },
   "file_extension": ".py",
   "mimetype": "text/x-python",
   "name": "python",
   "nbconvert_exporter": "python",
   "pygments_lexer": "ipython3",
   "version": "3.9.17"
  },
  "orig_nbformat": 4
 },
 "nbformat": 4,
 "nbformat_minor": 2
}
