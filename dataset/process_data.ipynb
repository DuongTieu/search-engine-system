{
 "cells": [
  {
   "cell_type": "markdown",
   "metadata": {},
   "source": [
    "### Add header name"
   ]
  },
  {
   "cell_type": "code",
   "execution_count": null,
   "metadata": {},
   "outputs": [],
   "source": [
    "import numpy as np\n",
    "import pandas as pd\n",
    "\n",
    "# Read the CSV file containing data into a pandas DataFrame\n",
    "df = pd.read_csv(\"data.csv\", header=None)\n",
    "\n",
    "# Specify the header names for the DataFrame columns\n",
    "header_names = ['item_path', 'item_image', 'item_name', 'fixed_item_price', 'sale_item_price', 'sales_number', 'shop_path', 'shop_name']\n",
    "\n",
    "# Save the DataFrame to a new CSV file with specified headers\n",
    "df.to_csv('./data_preprocess.csv', header=header_names, index=False)"
   ]
  },
  {
   "cell_type": "markdown",
   "metadata": {},
   "source": [
    "### Preprocess"
   ]
  },
  {
   "cell_type": "code",
   "execution_count": null,
   "metadata": {},
   "outputs": [],
   "source": [
    "import numpy as np\n",
    "import pandas as pd\n",
    "\n",
    "# Read the preprocessed CSV file into a pandas DataFrame\n",
    "df = pd.read_csv(\"data_preprocess.csv\")"
   ]
  },
  {
   "cell_type": "code",
   "execution_count": null,
   "metadata": {},
   "outputs": [],
   "source": [
    "# Define a function to convert sales number strings to numeric values\n",
    "def convert_to_numeric(value):\n",
    "    # Remove 'Đã bán ' from the string\n",
    "    value = value.replace('Đã bán ', '')\n",
    "    \n",
    "    # Check if 'k' (thousand) is present in the value\n",
    "    if 'k' in value:\n",
    "        value = value.replace('k', '')\n",
    "        \n",
    "        # Check if ',' is present in the value (e.g., '1,500k')\n",
    "        if ',' in value:\n",
    "            value = float(value.replace(',', '')) * 100\n",
    "        else:\n",
    "            value = float(value) * 1000\n",
    "    else:\n",
    "        # Remove commas and convert the value to float\n",
    "        value = float(value.replace(',', ''))\n",
    "    \n",
    "    # Convert the numeric value to an integer and then back to a string\n",
    "    return str(int(value))\n",
    "\n",
    "# Fill missing values in the 'sales_number' column with \"Đã bán 0\"\n",
    "df['sales_number'] = df['sales_number'].fillna(\"Đã bán 0\")\n",
    "\n",
    "# Apply the 'convert_to_numeric' function to the 'sales_number' column\n",
    "df['sales_number'] = df['sales_number'].apply(convert_to_numeric)"
   ]
  },
  {
   "cell_type": "code",
   "execution_count": null,
   "metadata": {},
   "outputs": [],
   "source": [
    "# Define a custom conversion function to process 'sale_item_price' values\n",
    "def process_sale_item_price(value):\n",
    "    # Remove dots from the value\n",
    "    value = value.replace(\".\", \"\")\n",
    "    \n",
    "    # Convert the value to an integer and then back to a string\n",
    "    return str(int(value))\n",
    "\n",
    "# Apply the custom conversion function to the 'sale_item_price' column\n",
    "df['sale_item_price'] = df['sale_item_price'].apply(process_sale_item_price)"
   ]
  },
  {
   "cell_type": "code",
   "execution_count": null,
   "metadata": {},
   "outputs": [],
   "source": [
    "# Define a custom conversion function to process 'fixed_item_price' values\n",
    "def process_fixed_item_price(value):\n",
    "    # Remove dots and currency symbol (\"₫\") from the value\n",
    "    value = value.replace(\".\", \"\").replace(\"₫\", \"\")\n",
    "    \n",
    "    # Convert the value to an integer and then back to a string\n",
    "    return str(int(value))\n",
    "\n",
    "# Apply the custom conversion function to the 'fixed_item_price' column\n",
    "df['fixed_item_price'] = df['fixed_item_price'].apply(process_fixed_item_price)"
   ]
  },
  {
   "cell_type": "code",
   "execution_count": null,
   "metadata": {},
   "outputs": [],
   "source": [
    "# Save the DataFrame to a CSV file named 'data_preprocess.csv' without including the index column\n",
    "df.to_csv('data_preprocess.csv', index=False)"
   ]
  },
  {
   "cell_type": "markdown",
   "metadata": {},
   "source": [
    "### Remove duplicate"
   ]
  },
  {
   "cell_type": "code",
   "execution_count": null,
   "metadata": {},
   "outputs": [],
   "source": [
    "import pandas as pd\n",
    "\n",
    "# Load the preprocessed data into a DataFrame\n",
    "df = pd.read_csv('data.csv')\n",
    "\n",
    "# Check for duplicate rows based on all columns\n",
    "duplicate_rows = df[df.duplicated(subset=['item_image'])]\n",
    "\n",
    "# Print the duplicate rows (if any)\n",
    "if not duplicate_rows.empty:\n",
    "    print(\"Duplicate Rows:\")\n",
    "    print(duplicate_rows)\n",
    "else:\n",
    "    print(\"No duplicate rows found.\")"
   ]
  },
  {
   "cell_type": "code",
   "execution_count": null,
   "metadata": {},
   "outputs": [],
   "source": [
    "# Remove duplicate rows based on all columns and keep the first occurrence\n",
    "df_no_duplicates = df.drop_duplicates(subset=['item_image'])\n",
    "\n",
    "# Save the DataFrame without duplicates back to a CSV file\n",
    "df_no_duplicates.to_csv('data_no_duplicates.csv', index=False)"
   ]
  }
 ],
 "metadata": {
  "kernelspec": {
   "display_name": "crawl_data",
   "language": "python",
   "name": "python3"
  },
  "language_info": {
   "codemirror_mode": {
    "name": "ipython",
    "version": 3
   },
   "file_extension": ".py",
   "mimetype": "text/x-python",
   "name": "python",
   "nbconvert_exporter": "python",
   "pygments_lexer": "ipython3",
   "version": "3.9.17"
  },
  "orig_nbformat": 4
 },
 "nbformat": 4,
 "nbformat_minor": 2
}
