{
  "cells": [
    {
      "cell_type": "code",
      "execution_count": null,
      "metadata": {
        "id": "wG_OmsX_yWtz"
      },
      "outputs": [],
      "source": [
        "from PIL import Image\n",
        "import numpy as np\n",
        "import os\n",
        "import tensorflow as tf\n",
        "from tensorflow.keras.applications.resnet50 import ResNet50, preprocess_input\n",
        "import pandas\n",
        "\n",
        "class FeatureExtractor:\n",
        "    def __init__(self):\n",
        "        base_model = ResNet50(weights=\"/content/drive/MyDrive/crawl_shopee/weight_resnet50.h5\", include_top=False)\n",
        "        x = base_model.output\n",
        "        x = tf.keras.layers.GlobalAveragePooling2D()(x)\n",
        "        self.model = tf.keras.Model(inputs=base_model.input, outputs=x)\n",
        "        \n",
        "    def extract(self, img):\n",
        "        \n",
        "        x = preprocess_input(img)  # Subtracting avg values for each pixel\n",
        "        feature = self.model.predict(x)  # (1, 2048)\n",
        "        return feature # Normalize"
      ]
    },
    {
      "cell_type": "code",
      "execution_count": null,
      "metadata": {
        "id": "pNESOlS2Mdfu"
      },
      "outputs": [],
      "source": [
        "def read_image(path, size = (224, 224)):\n",
        "  # Mở ảnh\n",
        "  img = np.float32(Image.open(path).resize(size))\n",
        "\n",
        "  # Sample zeros\n",
        "  sample = np.zeros((224,224,3))\n",
        "\n",
        "  # Kiểm tra kích thước ảnh\n",
        "  if img.shape != sample.shape:\n",
        "    img = sample\n",
        "    print(path)\n",
        "  \n",
        "  return img"
      ]
    },
    {
      "cell_type": "code",
      "execution_count": null,
      "metadata": {
        "colab": {
          "base_uri": "https://localhost:8080/"
        },
        "id": "iAiDQFdiy_no",
        "outputId": "3f8db347-a9a0-4af0-d640-a9a1c27f39b7"
      },
      "outputs": [
        {
          "name": "stdout",
          "output_type": "stream",
          "text": [
            "348\n",
            "696\n",
            "1044\n",
            "1392\n",
            "1740\n",
            "2088\n",
            "2436\n",
            "2784\n",
            "3132\n",
            "3480\n",
            "3828\n",
            "/content/drive/MyDrive/crawl_shopee/img/3638.jpg\n",
            "4176\n",
            "4524\n",
            "4872\n",
            "5220\n",
            "5568\n",
            "5916\n",
            "6264\n",
            "6612\n",
            "6960\n",
            "7308\n",
            "7656\n",
            "8004\n",
            "8352\n",
            "8700\n",
            "9048\n",
            "9396\n",
            "9744\n",
            "10092\n",
            "10440\n",
            "10788\n",
            "11136\n",
            "11484\n",
            "11832\n",
            "12180\n",
            "12528\n",
            "12876\n",
            "13224\n",
            "13572\n",
            "13920\n",
            "14268\n",
            "14616\n",
            "14964\n",
            "15312\n",
            "15660\n",
            "16008\n",
            "16356\n",
            "16704\n",
            "17052\n",
            "17400\n",
            "17748\n",
            "18096\n",
            "18444\n",
            "18792\n",
            "19140\n",
            "19488\n",
            "19836\n",
            "20184\n",
            "20532\n",
            "20880\n",
            "21228\n",
            "21576\n",
            "21924\n",
            "22272\n",
            "22620\n",
            "22968\n",
            "23316\n",
            "23664\n",
            "24012\n",
            "24360\n",
            "24708\n"
          ]
        }
      ],
      "source": [
        "root_img_path = \"/content/drive/MyDrive/crawl_shopee/img\"\n",
        "root_fearure_path = \"/content/drive/MyDrive/crawl_shopee/feature/\"\n",
        "data_products_path = \"/content/drive/MyDrive/crawl_shopee/data.csv\"\n",
        "\n",
        "size = (224, 224)\n",
        "\n",
        "fe = FeatureExtractor()\n",
        "\n",
        "imgs_feature = []\n",
        "\n",
        "# feature & name_images\n",
        "x = 0\n",
        "images = [name for name in os.listdir(root_img_path) if name.endswith((\".jpg\", \".png\", \".jpeg\"))]\n",
        "name_images = []\n",
        "\n",
        "for i in range(0, len(images) + 1, 348):\n",
        "  if i == 0: \n",
        "    continue\n",
        "  print(i)\n",
        "  images_np = []\n",
        "  for j in range(x, i):\n",
        "    # Lưu ảnh vào mảng numpy\n",
        "    images_np.append(read_image(root_img_path + \"/\" + f\"{j}.jpg\"))\n",
        "\n",
        "  images_np_arr = np.array(images_np)\n",
        "  imgs_feature.extend(fe.extract(images_np_arr))\n",
        "  x = i"
      ]
    },
    {
      "cell_type": "code",
      "execution_count": null,
      "metadata": {
        "id": "Fttb_hBOM1h9"
      },
      "outputs": [],
      "source": [
        "data = pandas.read_csv(data_products_path, usecols=[0,2,3], header=None)\n",
        "\n",
        "# Category\n",
        "category = data.values[:, 0]\n",
        "\n",
        "# Prices\n",
        "price = data.values[:, 1]\n",
        "\n",
        "# Url products\n",
        "url = data.values[:, 2]"
      ]
    },
    {
      "cell_type": "code",
      "execution_count": null,
      "metadata": {
        "id": "ySe1YIIBmD46"
      },
      "outputs": [],
      "source": [
        "np.savez_compressed(root_fearure_path + \"features_product\", \n",
        "                    arr1 = imgs_feature, arr2 = images_np_arr, arr3 = category, arr4 = price, arr5 = url)"
      ]
    },
    {
      "cell_type": "code",
      "execution_count": null,
      "metadata": {
        "id": "l6xIHgUmSwLl"
      },
      "outputs": [],
      "source": [
        "# Test read data from features_product\n",
        "\n",
        "import numpy as np\n",
        "root_fearure_path = \"/content/drive/MyDrive/crawl_shopee/feature/features_product.npz\"\n",
        "\n",
        "data = np.load(root_fearure_path, allow_pickle=True)\n",
        "\n",
        "imgs_feature = data[\"arr1\"]\n",
        "name_images = data[\"arr2\"]\n",
        "categorys = data[\"arr3\"]\n",
        "prices = data[\"arr4\"]\n",
        "urls = data[\"arr5\"]"
      ]
    }
  ],
  "metadata": {
    "accelerator": "GPU",
    "colab": {
      "name": "get_feature.ipynb",
      "provenance": []
    },
    "kernelspec": {
      "display_name": "Python 3",
      "name": "python3"
    },
    "language_info": {
      "name": "python"
    }
  },
  "nbformat": 4,
  "nbformat_minor": 0
}
